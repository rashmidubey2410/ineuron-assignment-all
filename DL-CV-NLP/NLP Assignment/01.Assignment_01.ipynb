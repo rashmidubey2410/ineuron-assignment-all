{
 "cells": [
  {
   "cell_type": "markdown",
   "id": "ebc1bc90",
   "metadata": {},
   "source": [
    "# Assignment 01 Solutions"
   ]
  },
  {
   "cell_type": "markdown",
   "id": "8e27993f",
   "metadata": {},
   "source": [
    "#### 1.\tExplain One-Hot Encoding"
   ]
  },
  {
   "cell_type": "code",
   "execution_count": null,
   "id": "880710f6",
   "metadata": {},
   "outputs": [],
   "source": []
  },
  {
   "cell_type": "markdown",
   "id": "e35fdd5e",
   "metadata": {},
   "source": [
    "#### 2.\tExplain Bag of Words"
   ]
  },
  {
   "cell_type": "code",
   "execution_count": null,
   "id": "a1a490a5",
   "metadata": {},
   "outputs": [],
   "source": []
  },
  {
   "cell_type": "markdown",
   "id": "20fd90cf",
   "metadata": {},
   "source": [
    "#### 3.\tExplain Bag of N-Grams"
   ]
  },
  {
   "cell_type": "code",
   "execution_count": null,
   "id": "96c991c0",
   "metadata": {},
   "outputs": [],
   "source": []
  },
  {
   "cell_type": "markdown",
   "id": "5e14f37d",
   "metadata": {},
   "source": [
    "#### 4.\tExplain TF-IDF"
   ]
  },
  {
   "cell_type": "code",
   "execution_count": null,
   "id": "92172552",
   "metadata": {},
   "outputs": [],
   "source": []
  },
  {
   "cell_type": "markdown",
   "id": "81214e0a",
   "metadata": {},
   "source": [
    "#### 5.\tWhat is OOV problem?"
   ]
  },
  {
   "cell_type": "code",
   "execution_count": null,
   "id": "1e3013d0",
   "metadata": {},
   "outputs": [],
   "source": []
  },
  {
   "cell_type": "markdown",
   "id": "759c5b09",
   "metadata": {},
   "source": [
    "#### 6.\tWhat are word embeddings?"
   ]
  },
  {
   "cell_type": "code",
   "execution_count": null,
   "id": "948dc6a4",
   "metadata": {},
   "outputs": [],
   "source": []
  },
  {
   "cell_type": "markdown",
   "id": "5686a77e",
   "metadata": {},
   "source": [
    "#### 7.\tExplain Continuous bag of words (CBOW)"
   ]
  },
  {
   "cell_type": "code",
   "execution_count": null,
   "id": "130270b5",
   "metadata": {},
   "outputs": [],
   "source": []
  },
  {
   "cell_type": "markdown",
   "id": "637d9df0",
   "metadata": {},
   "source": [
    "#### 8.\tExplain SkipGram"
   ]
  },
  {
   "cell_type": "code",
   "execution_count": null,
   "id": "7e90ac9b",
   "metadata": {},
   "outputs": [],
   "source": []
  },
  {
   "cell_type": "markdown",
   "id": "8668d7b8",
   "metadata": {},
   "source": [
    "#### 9.\tExplain Glove Embeddings."
   ]
  },
  {
   "cell_type": "code",
   "execution_count": null,
   "id": "797e9e34",
   "metadata": {},
   "outputs": [],
   "source": []
  }
 ],
 "metadata": {
  "kernelspec": {
   "display_name": "Python 3",
   "language": "python",
   "name": "python3"
  },
  "language_info": {
   "codemirror_mode": {
    "name": "ipython",
    "version": 3
   },
   "file_extension": ".py",
   "mimetype": "text/x-python",
   "name": "python",
   "nbconvert_exporter": "python",
   "pygments_lexer": "ipython3",
   "version": "3.8.8"
  }
 },
 "nbformat": 4,
 "nbformat_minor": 5
}
