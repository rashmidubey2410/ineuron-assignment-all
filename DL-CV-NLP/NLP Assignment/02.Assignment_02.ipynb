{
 "cells": [
  {
   "cell_type": "markdown",
   "id": "8fc44854",
   "metadata": {},
   "source": [
    "# Assignment 02 Solutions"
   ]
  },
  {
   "cell_type": "markdown",
   "id": "c35eaef1",
   "metadata": {},
   "source": [
    "#### 1.\tWhat are Corpora?"
   ]
  },
  {
   "cell_type": "code",
   "execution_count": null,
   "id": "21428b8c",
   "metadata": {},
   "outputs": [],
   "source": []
  },
  {
   "cell_type": "markdown",
   "id": "c478edb2",
   "metadata": {},
   "source": [
    "#### 2.\tWhat are Tokens?"
   ]
  },
  {
   "cell_type": "code",
   "execution_count": null,
   "id": "09b72c3f",
   "metadata": {},
   "outputs": [],
   "source": []
  },
  {
   "cell_type": "markdown",
   "id": "fb759d62",
   "metadata": {},
   "source": [
    "#### 3.\tWhat are Unigrams, Bigrams, Trigrams?"
   ]
  },
  {
   "cell_type": "code",
   "execution_count": null,
   "id": "8aab5660",
   "metadata": {},
   "outputs": [],
   "source": []
  },
  {
   "cell_type": "markdown",
   "id": "a639b7b3",
   "metadata": {},
   "source": [
    "#### 4.\tHow to generate n-grams from text?"
   ]
  },
  {
   "cell_type": "code",
   "execution_count": null,
   "id": "d101f63b",
   "metadata": {},
   "outputs": [],
   "source": []
  },
  {
   "cell_type": "markdown",
   "id": "2c4d0589",
   "metadata": {},
   "source": [
    "#### 5.\tExplain Lemmatization"
   ]
  },
  {
   "cell_type": "code",
   "execution_count": null,
   "id": "891b4cf8",
   "metadata": {},
   "outputs": [],
   "source": []
  },
  {
   "cell_type": "markdown",
   "id": "34fa3100",
   "metadata": {},
   "source": [
    "#### 6.\tExplain Stemming"
   ]
  },
  {
   "cell_type": "code",
   "execution_count": null,
   "id": "5e975609",
   "metadata": {},
   "outputs": [],
   "source": []
  },
  {
   "cell_type": "markdown",
   "id": "05471446",
   "metadata": {},
   "source": [
    "#### 7.\tExplain Part-of-speech (POS) tagging"
   ]
  },
  {
   "cell_type": "code",
   "execution_count": null,
   "id": "50b9c44c",
   "metadata": {},
   "outputs": [],
   "source": []
  },
  {
   "cell_type": "markdown",
   "id": "ae81dae1",
   "metadata": {},
   "source": [
    "#### 8.\tExplain Chunking or shallow parsing"
   ]
  },
  {
   "cell_type": "code",
   "execution_count": null,
   "id": "cdb2eb8f",
   "metadata": {},
   "outputs": [],
   "source": []
  },
  {
   "cell_type": "markdown",
   "id": "b999e29b",
   "metadata": {},
   "source": [
    "#### 9.\tExplain Noun Phrase (NP) chunking"
   ]
  },
  {
   "cell_type": "code",
   "execution_count": null,
   "id": "196a25fc",
   "metadata": {},
   "outputs": [],
   "source": []
  },
  {
   "cell_type": "markdown",
   "id": "56c0ebbc",
   "metadata": {},
   "source": [
    "#### 10.\tExplain Named Entity Recognition"
   ]
  },
  {
   "cell_type": "code",
   "execution_count": null,
   "id": "5f2442ae",
   "metadata": {},
   "outputs": [],
   "source": []
  }
 ],
 "metadata": {
  "kernelspec": {
   "display_name": "Python 3",
   "language": "python",
   "name": "python3"
  },
  "language_info": {
   "codemirror_mode": {
    "name": "ipython",
    "version": 3
   },
   "file_extension": ".py",
   "mimetype": "text/x-python",
   "name": "python",
   "nbconvert_exporter": "python",
   "pygments_lexer": "ipython3",
   "version": "3.8.8"
  }
 },
 "nbformat": 4,
 "nbformat_minor": 5
}
