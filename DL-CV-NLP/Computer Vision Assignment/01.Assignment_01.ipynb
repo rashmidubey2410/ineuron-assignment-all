{
 "cells": [
  {
   "cell_type": "markdown",
   "id": "7992e38d",
   "metadata": {},
   "source": [
    "# Assignment 01 Solutions"
   ]
  },
  {
   "cell_type": "code",
   "execution_count": null,
   "id": "e1eacb2d",
   "metadata": {},
   "outputs": [],
   "source": []
  },
  {
   "cell_type": "markdown",
   "id": "99f83668",
   "metadata": {},
   "source": [
    "#### 1. What exactly is a feature?"
   ]
  },
  {
   "cell_type": "code",
   "execution_count": null,
   "id": "979ccb9e",
   "metadata": {},
   "outputs": [],
   "source": []
  },
  {
   "cell_type": "markdown",
   "id": "015e04af",
   "metadata": {},
   "source": [
    "#### 2. For a top edge detector, write out the convolutional kernel matrix."
   ]
  },
  {
   "cell_type": "code",
   "execution_count": null,
   "id": "e5299599",
   "metadata": {},
   "outputs": [],
   "source": []
  },
  {
   "cell_type": "markdown",
   "id": "15b1046b",
   "metadata": {},
   "source": [
    "#### 3. Describe the mathematical operation that a 3x3 kernel performs on a single pixel in an image."
   ]
  },
  {
   "cell_type": "code",
   "execution_count": null,
   "id": "c70aeeee",
   "metadata": {},
   "outputs": [],
   "source": []
  },
  {
   "cell_type": "markdown",
   "id": "b38060dd",
   "metadata": {},
   "source": [
    "#### 4. What is the significance of a convolutional kernel added to a 3x3 matrix of zeroes?"
   ]
  },
  {
   "cell_type": "code",
   "execution_count": null,
   "id": "e809aa10",
   "metadata": {},
   "outputs": [],
   "source": []
  },
  {
   "cell_type": "markdown",
   "id": "3c44fd78",
   "metadata": {},
   "source": [
    "#### 5. What exactly is padding?"
   ]
  },
  {
   "cell_type": "code",
   "execution_count": null,
   "id": "613b3a2b",
   "metadata": {},
   "outputs": [],
   "source": []
  },
  {
   "cell_type": "markdown",
   "id": "133bac6e",
   "metadata": {},
   "source": [
    "#### 6. What is the concept of stride?"
   ]
  },
  {
   "cell_type": "code",
   "execution_count": null,
   "id": "5919a2be",
   "metadata": {},
   "outputs": [],
   "source": []
  },
  {
   "cell_type": "markdown",
   "id": "5abc501d",
   "metadata": {},
   "source": [
    "#### 7. What are the shapes of PyTorch's 2D convolution's input and weight parameters?"
   ]
  },
  {
   "cell_type": "code",
   "execution_count": null,
   "id": "aa01a13e",
   "metadata": {},
   "outputs": [],
   "source": []
  },
  {
   "cell_type": "markdown",
   "id": "b82c9515",
   "metadata": {},
   "source": [
    "#### 8. What exactly is a channel?"
   ]
  },
  {
   "cell_type": "code",
   "execution_count": null,
   "id": "8eb36471",
   "metadata": {},
   "outputs": [],
   "source": []
  },
  {
   "cell_type": "markdown",
   "id": "683f76ed",
   "metadata": {},
   "source": [
    "#### 9.Explain relationship between matrix multiplication and a convolution?"
   ]
  },
  {
   "cell_type": "code",
   "execution_count": null,
   "id": "ce9b4ddc",
   "metadata": {},
   "outputs": [],
   "source": []
  }
 ],
 "metadata": {
  "kernelspec": {
   "display_name": "Python 3",
   "language": "python",
   "name": "python3"
  },
  "language_info": {
   "codemirror_mode": {
    "name": "ipython",
    "version": 3
   },
   "file_extension": ".py",
   "mimetype": "text/x-python",
   "name": "python",
   "nbconvert_exporter": "python",
   "pygments_lexer": "ipython3",
   "version": "3.8.8"
  }
 },
 "nbformat": 4,
 "nbformat_minor": 5
}
